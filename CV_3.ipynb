{
 "cells": [
  {
   "cell_type": "code",
   "execution_count": 1,
   "metadata": {
    "id": "SugKuV9yMDuU"
   },
   "outputs": [],
   "source": [
    "import numpy as np\n",
    "import matplotlib.pyplot as plt\n",
    "import tensorflow as tf\n",
    "from tensorflow import keras\n",
    "%matplotlib inline\n",
    "from tensorflow.keras.datasets import cifar10\n",
    "from tensorflow.keras.models import Sequential\n",
    "from tensorflow.keras.layers import Dense, Dropout, Conv2D, InputLayer, MaxPooling2D\n",
    "from tensorflow.keras import utils\n",
    "\n",
    "from tensorflow.keras.losses import categorical_crossentropy"
   ]
  },
  {
   "cell_type": "code",
   "execution_count": 2,
   "metadata": {
    "colab": {
     "base_uri": "https://localhost:8080/"
    },
    "id": "VnnRQTA1jmJt",
    "outputId": "3db0db26-4454-4c9b-f288-bad003abdd23"
   },
   "outputs": [],
   "source": [
    "(x_train, y_train), (x_test, y_test) = cifar10.load_data()\n",
    "\n",
    "\n",
    "class_names = ['airplane', 'automobile', 'bird', 'cat', 'deer', 'dog', 'frog', 'horse', 'ship', 'truck']"
   ]
  },
  {
   "cell_type": "code",
   "execution_count": 3,
   "metadata": {
    "id": "3PHML5nZjtFu"
   },
   "outputs": [
    {
     "data": {
      "image/png": "[encoded data removed]",
      "text/plain": [
       "<Figure size 640x480 with 2 Axes>"
      ]
     },
     "metadata": {},
     "output_type": "display_data"
    }
   ],
   "source": [
    "plt.figure()\n",
    "plt.imshow(x_train[100])\n",
    "plt.colorbar()\n",
    "plt.grid(False)"
   ]
  },
  {
   "cell_type": "code",
   "execution_count": 4,
   "metadata": {
    "colab": {
     "base_uri": "https://localhost:8080/",
     "height": 430
    },
    "id": "7Xs0gotqkJ5F",
    "outputId": "bd5b8dde-b88c-41e2-bb55-8c97efc7ed6f"
   },
   "outputs": [],
   "source": [
    "x_train = x_train/ 255\n",
    "x_test = x_test/ 255"
   ]
  },
  {
   "cell_type": "code",
   "execution_count": 5,
   "metadata": {
    "id": "RlD1vrMmtsG9"
   },
   "outputs": [],
   "source": [
    "y_train_cat = keras.utils.to_categorical(y_train, 10)\n",
    "y_test_cat = keras.utils.to_categorical(y_test, 10)\n",
    "\n",
    "\n",
    "\n"
   ]
  },
  {
   "cell_type": "code",
   "execution_count": 6,
   "metadata": {
    "id": "i3YPgK7RttTm"
   },
   "outputs": [],
   "source": [
    "model = keras.Sequential([\n",
    "                          keras.layers.Conv2D(32, (3,3), padding='same', activation='relu', input_shape = (32,32,3)),\n",
    "                          keras.layers.Conv2D(64, (3,3), padding='same', activation='relu', input_shape = (32,32,3)),\n",
    "                          keras.layers.MaxPooling2D(pool_size=(2,2), strides=2),\n",
    "                          keras.layers.Conv2D(64, (3,3), padding='same', activation='relu', input_shape = (32,32,3)),\n",
    "                          keras.layers.Conv2D(128, (3,3), padding='same', activation='relu', input_shape = (32,32,3)),\n",
    "                          keras.layers.MaxPooling2D(pool_size=(2,2), strides=2),\n",
    "                          keras.layers.Conv2D(128, (3,3), padding='same', activation='relu', input_shape = (32,32,3)),\n",
    "                          keras.layers.MaxPooling2D(pool_size=(2,2), strides=2),\n",
    "                          keras.layers.Flatten(),\n",
    "                          keras.layers.Dense(128, activation=\"relu\"),\n",
    "                          keras.layers.Dense(10, activation=\"softmax\")\n",
    "])"
   ]
  },
  {
   "cell_type": "code",
   "execution_count": 7,
   "metadata": {
    "colab": {
     "base_uri": "https://localhost:8080/",
     "height": 435
    },
    "id": "MEQP_4_Hkpw4",
    "outputId": "3e54a979-9cdc-4e59-f7e6-5c2d3e0cbe6a"
   },
   "outputs": [
    {
     "name": "stdout",
     "output_type": "stream",
     "text": [
      "Model: \"sequential\"\n",
      "_________________________________________________________________\n",
      " Layer (type)                Output Shape              Param #   \n",
      "=================================================================\n",
      " conv2d (Conv2D)             (None, 32, 32, 32)        896       \n",
      "                                                                 \n",
      " conv2d_1 (Conv2D)           (None, 32, 32, 64)        18496     \n",
      "                                                                 \n",
      " max_pooling2d (MaxPooling2D  (None, 16, 16, 64)       0         \n",
      " )                                                               \n",
      "                                                                 \n",
      " conv2d_2 (Conv2D)           (None, 16, 16, 64)        36928     \n",
      "                                                                 \n",
      " conv2d_3 (Conv2D)           (None, 16, 16, 128)       73856     \n",
      "                                                                 \n",
      " max_pooling2d_1 (MaxPooling  (None, 8, 8, 128)        0         \n",
      " 2D)                                                             \n",
      "                                                                 \n",
      " conv2d_4 (Conv2D)           (None, 8, 8, 128)         147584    \n",
      "                                                                 \n",
      " max_pooling2d_2 (MaxPooling  (None, 4, 4, 128)        0         \n",
      " 2D)                                                             \n",
      "                                                                 \n",
      " flatten (Flatten)           (None, 2048)              0         \n",
      "                                                                 \n",
      " dense (Dense)               (None, 128)               262272    \n",
      "                                                                 \n",
      " dense_1 (Dense)             (None, 10)                1290      \n",
      "                                                                 \n",
      "=================================================================\n",
      "Total params: 541,322\n",
      "Trainable params: 541,322\n",
      "Non-trainable params: 0\n",
      "_________________________________________________________________\n",
      "None\n"
     ]
    }
   ],
   "source": [
    "print(model.summary())"
   ]
  },
  {
   "cell_type": "code",
   "execution_count": 8,
   "metadata": {
    "colab": {
     "base_uri": "https://localhost:8080/",
     "height": 826
    },
    "id": "MW9lRXQpkt3I",
    "outputId": "5c2fa533-9126-46ad-9261-8f1b1fc4548c"
   },
   "outputs": [],
   "source": [
    "model.compile(loss=categorical_crossentropy,\n",
    "              optimizer=keras.optimizers.Adam(),\n",
    "              metrics=['accuracy'])\n"
   ]
  },
  {
   "cell_type": "code",
   "execution_count": null,
   "metadata": {},
   "outputs": [],
   "source": []
  },
  {
   "cell_type": "code",
   "execution_count": 9,
   "metadata": {
    "id": "_l-FwnYllWZm"
   },
   "outputs": [
    {
     "name": "stdout",
     "output_type": "stream",
     "text": [
      "Epoch 1/10\n",
      "625/625 [==============================] - 458s 726ms/step - loss: 1.5578 - accuracy: 0.4309 - val_loss: 1.1841 - val_accuracy: 0.5848\n",
      "Epoch 2/10\n",
      "625/625 [==============================] - 428s 684ms/step - loss: 1.0278 - accuracy: 0.6356 - val_loss: 0.9025 - val_accuracy: 0.6861\n",
      "Epoch 3/10\n",
      "625/625 [==============================] - 391s 625ms/step - loss: 0.8007 - accuracy: 0.7190 - val_loss: 0.7611 - val_accuracy: 0.7337\n",
      "Epoch 4/10\n",
      "625/625 [==============================] - 304s 486ms/step - loss: 0.6624 - accuracy: 0.7675 - val_loss: 0.7279 - val_accuracy: 0.7508\n",
      "Epoch 5/10\n",
      "625/625 [==============================] - 302s 484ms/step - loss: 0.5562 - accuracy: 0.8052 - val_loss: 0.7077 - val_accuracy: 0.7658\n",
      "Epoch 6/10\n",
      "625/625 [==============================] - 336s 537ms/step - loss: 0.4690 - accuracy: 0.8354 - val_loss: 0.7273 - val_accuracy: 0.7530\n",
      "Epoch 7/10\n",
      "625/625 [==============================] - 337s 539ms/step - loss: 0.3811 - accuracy: 0.8661 - val_loss: 0.7456 - val_accuracy: 0.7713\n",
      "Epoch 8/10\n",
      "625/625 [==============================] - 336s 537ms/step - loss: 0.3130 - accuracy: 0.8904 - val_loss: 0.7272 - val_accuracy: 0.7763\n",
      "Epoch 9/10\n",
      "625/625 [==============================] - 337s 539ms/step - loss: 0.2498 - accuracy: 0.9110 - val_loss: 0.8355 - val_accuracy: 0.7689\n",
      "Epoch 10/10\n",
      "625/625 [==============================] - 339s 543ms/step - loss: 0.2020 - accuracy: 0.9277 - val_loss: 0.9248 - val_accuracy: 0.7599\n"
     ]
    },
    {
     "data": {
      "text/plain": [
       "<keras.callbacks.History at 0x226c9127be0>"
      ]
     },
     "execution_count": 9,
     "metadata": {},
     "output_type": "execute_result"
    }
   ],
   "source": [
    "model.fit(x_train, y_train_cat, batch_size=64, epochs=10, validation_split=0.2)"
   ]
  },
  {
   "cell_type": "code",
   "execution_count": 10,
   "metadata": {
    "id": "RRP5HxwJl3pb"
   },
   "outputs": [
    {
     "name": "stdout",
     "output_type": "stream",
     "text": [
      "313/313 [==============================] - 29s 76ms/step - loss: 0.9334 - accuracy: 0.7585\n",
      "Test loss: 0.9334105253219604\n",
      "Test accuracy: 0.7584999799728394\n"
     ]
    }
   ],
   "source": [
    "test_loss, test_acc = model.evaluate(x_test, y_test_cat)\n",
    "print('Test loss:', test_loss)\n",
    "print('Test accuracy:', test_acc)"
   ]
  },
  {
   "cell_type": "code",
   "execution_count": 11,
   "metadata": {
    "colab": {
     "base_uri": "https://localhost:8080/"
    },
    "id": "LMmS0ApQl3wW",
    "outputId": "55bbb11b-0605-40c5-a635-1cbf9c716a4c"
   },
   "outputs": [
    {
     "name": "stdout",
     "output_type": "stream",
     "text": [
      "1563/1563 [==============================] - 161s 88ms/step\n"
     ]
    }
   ],
   "source": [
    "predictions = model.predict(x_train)"
   ]
  },
  {
   "cell_type": "code",
   "execution_count": 15,
   "metadata": {
    "colab": {
     "base_uri": "https://localhost:8080/"
    },
    "id": "S21Gvy1Mmn7Q",
    "outputId": "e73988e1-884f-4524-ae6c-dbb25aa5a4e9"
   },
   "outputs": [
    {
     "data": {
      "text/plain": [
       "array([2.7721311e-08, 1.5811576e-09, 1.5363728e-03, 3.7530106e-02,\n",
       "       2.0599309e-05, 4.4587534e-03, 9.5644021e-01, 1.3894432e-05,\n",
       "       4.1211603e-09, 6.9647815e-11], dtype=float32)"
      ]
     },
     "execution_count": 15,
     "metadata": {},
     "output_type": "execute_result"
    }
   ],
   "source": [
    "predictions[0]"
   ]
  },
  {
   "cell_type": "code",
   "execution_count": 15,
   "metadata": {
    "colab": {
     "base_uri": "https://localhost:8080/"
    },
    "id": "A5E1q5CymoC1",
    "outputId": "01f73618-9ea6-438d-b76e-2d733da0327f"
   },
   "outputs": [
    {
     "data": {
      "text/plain": [
       "8"
      ]
     },
     "execution_count": 15,
     "metadata": {},
     "output_type": "execute_result"
    }
   ],
   "source": [
    "np.argmax(predictions[100])"
   ]
  },
  {
   "cell_type": "code",
   "execution_count": 16,
   "metadata": {
    "colab": {
     "base_uri": "https://localhost:8080/"
    },
    "id": "XoqjHO7cmoI2",
    "outputId": "b7cd8331-61ae-48cf-a165-3609b3907751"
   },
   "outputs": [
    {
     "data": {
      "text/plain": [
       "8"
      ]
     },
     "execution_count": 16,
     "metadata": {},
     "output_type": "execute_result"
    }
   ],
   "source": [
    "y_train[100]"
   ]
  },
  {
   "cell_type": "code",
   "execution_count": 17,
   "metadata": {
    "colab": {
     "base_uri": "https://localhost:8080/"
    },
    "id": "fafE0HANnbWD",
    "outputId": "05bfca66-bd9c-44b4-a011-492fa1af3eed"
   },
   "outputs": [
    {
     "data": {
      "text/plain": [
       "Text(0.5, 0, 'frog')"
      ]
     },
     "execution_count": 17,
     "metadata": {},
     "output_type": "execute_result"
    },
    {
     "data": {
      "image/png": "[encoded data removed]",
      "text/plain": [
       "<Figure size 640x480 with 2 Axes>"
      ]
     },
     "metadata": {},
     "output_type": "display_data"
    }
   ],
   "source": [
    "y_train = y_train.flatten()\n",
    "y_test = y_test.flatten()\n",
    "\n",
    "plt.figure()\n",
    "plt.imshow(x_train[12321])\n",
    "plt.colorbar()\n",
    "plt.grid(False)\n",
    "plt.xlabel(class_names[y_train[12321]])"
   ]
  },
  {
   "cell_type": "code",
   "execution_count": null,
   "metadata": {
    "id": "AirGkylmnpoc"
   },
   "outputs": [],
   "source": []
  }
 ],
 "metadata": {
  "colab": {
   "provenance": []
  },
  "kernelspec": {
   "display_name": "Python 3 (ipykernel)",
   "language": "python",
   "name": "python3"
  },
  "language_info": {
   "codemirror_mode": {
    "name": "ipython",
    "version": 3
   },
   "file_extension": ".py",
   "mimetype": "text/x-python",
   "name": "python",
   "nbconvert_exporter": "python",
   "pygments_lexer": "ipython3",
   "version": "3.10.10"
  }
 },
 "nbformat": 4,
 "nbformat_minor": 1
}
